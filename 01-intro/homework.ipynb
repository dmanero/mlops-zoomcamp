{
 "cells": [
  {
   "cell_type": "code",
   "execution_count": 1,
   "id": "1e968792",
   "metadata": {},
   "outputs": [
    {
     "name": "stdout",
     "output_type": "stream",
     "text": [
      "Python 3.9.12\n"
     ]
    }
   ],
   "source": [
    "!python -V"
   ]
  },
  {
   "cell_type": "code",
   "execution_count": 2,
   "id": "7a588d4e",
   "metadata": {},
   "outputs": [],
   "source": [
    "import pandas as pd \n",
    "import seaborn as sns\n",
    "import matplotlib.pyplot as plt\n",
    "\n",
    "from sklearn.feature_extraction import DictVectorizer\n",
    "from sklearn.linear_model import LinearRegression\n",
    "\n",
    "from sklearn.metrics import mean_squared_error"
   ]
  },
  {
   "cell_type": "code",
   "execution_count": 3,
   "id": "75f3d6dc",
   "metadata": {},
   "outputs": [],
   "source": [
    "pdf_ytd2023_01 = pd.read_parquet('./data/yellow_tripdata_2023-01.parquet')\n"
   ]
  },
  {
   "cell_type": "markdown",
   "id": "e022829b",
   "metadata": {},
   "source": [
    "# Q1. Downloading the data"
   ]
  },
  {
   "cell_type": "code",
   "execution_count": 4,
   "id": "f48d0407",
   "metadata": {},
   "outputs": [
    {
     "data": {
      "text/plain": [
       "19"
      ]
     },
     "execution_count": 4,
     "metadata": {},
     "output_type": "execute_result"
    }
   ],
   "source": [
    "pdf_ytd2023_01.shape[1]"
   ]
  },
  {
   "cell_type": "code",
   "execution_count": 5,
   "id": "7b8a398a",
   "metadata": {},
   "outputs": [
    {
     "data": {
      "text/plain": [
       "VendorID                          int64\n",
       "tpep_pickup_datetime     datetime64[ns]\n",
       "tpep_dropoff_datetime    datetime64[ns]\n",
       "passenger_count                 float64\n",
       "trip_distance                   float64\n",
       "RatecodeID                      float64\n",
       "store_and_fwd_flag               object\n",
       "PULocationID                      int64\n",
       "DOLocationID                      int64\n",
       "payment_type                      int64\n",
       "fare_amount                     float64\n",
       "extra                           float64\n",
       "mta_tax                         float64\n",
       "tip_amount                      float64\n",
       "tolls_amount                    float64\n",
       "improvement_surcharge           float64\n",
       "total_amount                    float64\n",
       "congestion_surcharge            float64\n",
       "airport_fee                     float64\n",
       "dtype: object"
      ]
     },
     "execution_count": 5,
     "metadata": {},
     "output_type": "execute_result"
    }
   ],
   "source": [
    "pdf_ytd2023_01.dtypes"
   ]
  },
  {
   "cell_type": "markdown",
   "id": "24bed5e7",
   "metadata": {},
   "source": [
    "# Q2. Computing duration"
   ]
  },
  {
   "cell_type": "code",
   "execution_count": null,
   "id": "609485ef",
   "metadata": {},
   "outputs": [],
   "source": [
    "pdf_ytd2023_01.tpep_dropoff_datetime = pd.to_datetime(pdf_ytd2023_01.tpep_dropoff_datetime    )\n",
    "pdf_ytd2023_01.tpep_pickup_datetime  = pd.to_datetime(pdf_ytd2023_01.tpep_pickup_datetime     )\n",
    "\n",
    "pdf_ytd2023_01['duration'] = pdf_ytd2023_01['tpep_dropoff_datetime'] - pdf_ytd2023_01['tpep_pickup_datetime']\n",
    "pdf_ytd2023_01['duration'] = pdf_ytd2023_01['duration'].apply(lambda td: td.total_seconds() / 60)\n"
   ]
  },
  {
   "cell_type": "code",
   "execution_count": null,
   "id": "06b0289f",
   "metadata": {},
   "outputs": [
    {
     "data": {
      "text/plain": [
       "count    3.066766e+06\n",
       "mean     1.566900e+01\n",
       "std      4.259435e+01\n",
       "min     -2.920000e+01\n",
       "25%      7.116667e+00\n",
       "50%      1.151667e+01\n",
       "75%      1.830000e+01\n",
       "max      1.002918e+04\n",
       "Name: duration, dtype: float64"
      ]
     },
     "execution_count": 22,
     "metadata": {},
     "output_type": "execute_result"
    }
   ],
   "source": [
    "pdf_ytd2023_01.duration.describe()"
   ]
  },
  {
   "cell_type": "code",
   "execution_count": null,
   "id": "f22a6ffd",
   "metadata": {},
   "outputs": [
    {
     "data": {
      "text/plain": [
       "42.594351241920904"
      ]
     },
     "execution_count": 23,
     "metadata": {},
     "output_type": "execute_result"
    }
   ],
   "source": [
    "pdf_ytd2023_01.duration.std()"
   ]
  },
  {
   "cell_type": "markdown",
   "id": "f39c6934",
   "metadata": {},
   "source": [
    "# Q3. Dropping outliers"
   ]
  },
  {
   "cell_type": "code",
   "execution_count": null,
   "id": "8a54df2b",
   "metadata": {},
   "outputs": [
    {
     "data": {
      "text/plain": [
       "<AxesSubplot:xlabel='duration', ylabel='Density'>"
      ]
     },
     "execution_count": 24,
     "metadata": {},
     "output_type": "execute_result"
    },
    {
     "data": {
      "image/png": "[encoded data removed]",
      "text/plain": [
       "<Figure size 432x288 with 1 Axes>"
      ]
     },
     "metadata": {
      "needs_background": "light"
     },
     "output_type": "display_data"
    }
   ],
   "source": [
    "sns.kdeplot(pdf_ytd2023_01.duration, label='Duration')"
   ]
  },
  {
   "cell_type": "code",
   "execution_count": null,
   "id": "213d5c37",
   "metadata": {},
   "outputs": [
    {
     "data": {
      "text/plain": [
       "0.9812202822125979"
      ]
     },
     "execution_count": 25,
     "metadata": {},
     "output_type": "execute_result"
    }
   ],
   "source": [
    "((pdf_ytd2023_01.duration >=1) & (pdf_ytd2023_01.duration <= 60)).mean()"
   ]
  },
  {
   "cell_type": "code",
   "execution_count": null,
   "id": "ea76c9b3",
   "metadata": {},
   "outputs": [],
   "source": [
    "pdf_ytd2023_01 = pdf_ytd2023_01[((pdf_ytd2023_01.duration >=1) & (pdf_ytd2023_01.duration <= 60))]"
   ]
  },
  {
   "cell_type": "markdown",
   "id": "67b15962",
   "metadata": {},
   "source": [
    "# Q4. One-hot encoding\n"
   ]
  },
  {
   "cell_type": "code",
   "execution_count": null,
   "id": "c3e14550",
   "metadata": {},
   "outputs": [
    {
     "data": {
      "text/plain": [
       "515"
      ]
     },
     "execution_count": 27,
     "metadata": {},
     "output_type": "execute_result"
    }
   ],
   "source": [
    "\n",
    "categorical = ['PULocationID', 'DOLocationID']\n",
    "\n",
    "pdf_ytd2023_01_features = pdf_ytd2023_01[categorical].astype(str)\n",
    "\n",
    "dv = DictVectorizer()\n",
    "x_train = dv.fit_transform(pdf_ytd2023_01_features.to_dict(orient='records'))\n",
    "x_train.shape[1]"
   ]
  },
  {
   "cell_type": "markdown",
   "id": "0f835a50",
   "metadata": {},
   "source": [
    "# Q5. Training a model\n"
   ]
  },
  {
   "cell_type": "code",
   "execution_count": null,
   "id": "f8dd9325",
   "metadata": {},
   "outputs": [],
   "source": [
    "target_field = 'duration'\n",
    "y_train = pdf_ytd2023_01[target_field]\n",
    "\n",
    "lr = LinearRegression()\n",
    "lr.fit(x_train, y_train)\n",
    "y_predict = lr.predict(x_train)"
   ]
  },
  {
   "cell_type": "code",
   "execution_count": null,
   "id": "dd77492d",
   "metadata": {},
   "outputs": [
    {
     "data": {
      "text/plain": [
       "7.649261027792376"
      ]
     },
     "execution_count": 29,
     "metadata": {},
     "output_type": "execute_result"
    }
   ],
   "source": [
    "mean_squared_error(y_train, y_predict, squared=False)"
   ]
  },
  {
   "cell_type": "markdown",
   "id": "23df6372",
   "metadata": {},
   "source": [
    "# Q6. Evaluating the model"
   ]
  },
  {
   "cell_type": "code",
   "execution_count": null,
   "id": "0b212477",
   "metadata": {},
   "outputs": [],
   "source": [
    "pdf_ytd2023_02 = pd.read_parquet('./data/yellow_tripdata_2023-02.parquet')\n"
   ]
  },
  {
   "cell_type": "code",
   "execution_count": null,
   "id": "b2b9ad06",
   "metadata": {},
   "outputs": [
    {
     "ename": "",
     "evalue": "",
     "output_type": "error",
     "traceback": [
      "\u001b[1;31mThe Kernel crashed while executing code in the current cell or a previous cell. \n",
      "\u001b[1;31mPlease review the code in the cell(s) to identify a possible cause of the failure. \n",
      "\u001b[1;31mClick <a href='https://aka.ms/vscodeJupyterKernelCrash'>here</a> for more info. \n",
      "\u001b[1;31mView Jupyter <a href='command:jupyter.viewOutput'>log</a> for further details."
     ]
    }
   ],
   "source": [
    "pdf_ytd2023_02.tpep_dropoff_datetime = pd.to_datetime(pdf_ytd2023_02.tpep_dropoff_datetime    )\n",
    "pdf_ytd2023_02.tpep_pickup_datetime  = pd.to_datetime(pdf_ytd2023_02.tpep_pickup_datetime)\n",
    "\n",
    "pdf_ytd2023_02['duration'] = pdf_ytd2023_02['tpep_dropoff_datetime'] - pdf_ytd2023_02['tpep_pickup_datetime']\n",
    "pdf_ytd2023_02['duration'] = pdf_ytd2023_02['duration'].apply(lambda td: td.total_seconds() / 60)\n",
    "\n",
    "pdf_ytd2023_02 = pdf_ytd2023_02[((pdf_ytd2023_02.duration >=1) & (pdf_ytd2023_02.duration <= 60))]\n",
    "\n",
    "pdf_ytd2023_02_features = pdf_ytd2023_02[categorical].astype(str)\n",
    "\n",
    "\n",
    "\n"
   ]
  },
  {
   "cell_type": "code",
   "execution_count": null,
   "id": "0f20ee29",
   "metadata": {},
   "outputs": [],
   "source": [
    "dv = DictVectorizer()\n",
    "x_train = dv.fit_transform(pdf_ytd2023_02_features.to_dict(orient='records'))\n"
   ]
  },
  {
   "cell_type": "code",
   "execution_count": null,
   "id": "e78d1f7d",
   "metadata": {},
   "outputs": [],
   "source": [
    "y_predict = lr.predict(x_train)"
   ]
  },
  {
   "cell_type": "code",
   "execution_count": null,
   "id": "eb9f3294",
   "metadata": {},
   "outputs": [],
   "source": [
    "y_train = pdf_ytd2023_02['duration']\n",
    "mean_squared_error(y_train, y_predict, squared=False)"
   ]
  },
  {
   "cell_type": "code",
   "execution_count": null,
   "id": "5e29efad",
   "metadata": {},
   "outputs": [],
   "source": [
    "pdf_ytd2023_01.duration.describe(percentiles=[0.50, 0.97, 0.9812, 0.99])"
   ]
  },
  {
   "cell_type": "code",
   "execution_count": null,
   "id": "c30ded83",
   "metadata": {},
   "outputs": [],
   "source": [
    "# pdf = pdf[pdf.trip_type == 2.0]"
   ]
  },
  {
   "cell_type": "code",
   "execution_count": null,
   "id": "07286dfb",
   "metadata": {},
   "outputs": [],
   "source": [
    "pdf.head()"
   ]
  },
  {
   "cell_type": "code",
   "execution_count": null,
   "id": "213ca111",
   "metadata": {},
   "outputs": [],
   "source": [
    "sns.displot(pdf.duration, label='duration', )"
   ]
  },
  {
   "cell_type": "code",
   "execution_count": null,
   "id": "c45a48f6",
   "metadata": {},
   "outputs": [],
   "source": [
    "pdf.duration.describe(percentiles=[0.01, 0.25, 0.50, 0.75, 0.98, 0.99])"
   ]
  },
  {
   "cell_type": "code",
   "execution_count": null,
   "id": "93f835f6",
   "metadata": {},
   "outputs": [],
   "source": [
    "((pdf.duration >=0) & (pdf.duration <=75.3)).mean()"
   ]
  },
  {
   "cell_type": "code",
   "execution_count": null,
   "id": "5ae81d30",
   "metadata": {},
   "outputs": [],
   "source": [
    "pdf = pdf[((pdf.duration >=0) & (pdf.duration <=75.3))]"
   ]
  },
  {
   "cell_type": "code",
   "execution_count": null,
   "id": "41a4d9df",
   "metadata": {},
   "outputs": [],
   "source": [
    "sns.displot(pdf.duration, height=10, aspect=20/10)"
   ]
  },
  {
   "cell_type": "code",
   "execution_count": null,
   "id": "a0e8726f",
   "metadata": {},
   "outputs": [],
   "source": [
    "categorical = ['PULocationID', 'DOLocationID']\n",
    "pdf[categorical] = pdf[categorical].astype(str)\n",
    "numerical = ['trip_distance']\n"
   ]
  },
  {
   "cell_type": "code",
   "execution_count": null,
   "id": "6b0e362a",
   "metadata": {},
   "outputs": [],
   "source": [
    "pdf"
   ]
  },
  {
   "cell_type": "code",
   "execution_count": null,
   "id": "2fe659e2",
   "metadata": {},
   "outputs": [],
   "source": [
    "pdf_ds = pdf[categorical + numerical]\n",
    "pdf_ds.head()\n",
    "pdf_ds.dtypes"
   ]
  },
  {
   "cell_type": "code",
   "execution_count": null,
   "id": "052cc475",
   "metadata": {},
   "outputs": [],
   "source": [
    "pdf_ds"
   ]
  },
  {
   "cell_type": "code",
   "execution_count": null,
   "id": "1d2b37c0",
   "metadata": {},
   "outputs": [],
   "source": [
    "train_dict = pdf_ds.to_dict(orient='records')"
   ]
  },
  {
   "cell_type": "code",
   "execution_count": null,
   "id": "c6eb7ba7",
   "metadata": {},
   "outputs": [],
   "source": [
    "dv = DictVectorizer()\n",
    "X_train = dv.fit_transform(train_dict)"
   ]
  },
  {
   "cell_type": "code",
   "execution_count": null,
   "id": "78afee05",
   "metadata": {},
   "outputs": [],
   "source": [
    "target = 'duration'\n",
    "Y_train = pdf[target].values"
   ]
  },
  {
   "cell_type": "code",
   "execution_count": null,
   "id": "e247952d",
   "metadata": {},
   "outputs": [],
   "source": [
    "lr = LinearRegression()\n",
    "lr.fit(X_train, Y_train)"
   ]
  },
  {
   "cell_type": "code",
   "execution_count": null,
   "id": "60c79ce8",
   "metadata": {},
   "outputs": [],
   "source": [
    "y_pred = lr.predict(X_train)"
   ]
  },
  {
   "cell_type": "code",
   "execution_count": null,
   "id": "530b75d4",
   "metadata": {},
   "outputs": [],
   "source": [
    "sns.kdeplot(Y_train, label=\"Train\", fill=True)\n",
    "sns.kdeplot(y_pred, label='Prediction', fill=True)\n",
    "plt.legend()\n",
    "plt.title(\"Train vs Predict\")\n",
    "plt.xlabel(\"Duration\")\n",
    "plt.ylabel(\"Density\")\n",
    "plt.grid(True)\n",
    "plt.tight_layout()"
   ]
  },
  {
   "cell_type": "code",
   "execution_count": null,
   "id": "4a594be5",
   "metadata": {},
   "outputs": [],
   "source": [
    "mean_squared_error(Y_train, y_pred, squared=False)"
   ]
  },
  {
   "cell_type": "code",
   "execution_count": null,
   "id": "41c27e25",
   "metadata": {},
   "outputs": [],
   "source": [
    "ls = Lasso(alpha=0.01)\n",
    "ls.fit(X_train, Y_train)\n",
    "y_pred = ls.predict(X_train)\n"
   ]
  },
  {
   "cell_type": "code",
   "execution_count": null,
   "id": "125e3dd5",
   "metadata": {},
   "outputs": [],
   "source": [
    "sns.kdeplot(Y_train, label=\"Train\", fill=True)\n",
    "sns.kdeplot(y_pred, label='Prediction', fill=True)\n",
    "plt.legend()\n",
    "plt.title(\"Train vs Predict\")\n",
    "plt.xlabel(\"Duration\")\n",
    "plt.ylabel(\"Density\")\n",
    "plt.grid(True)\n",
    "plt.tight_layout()\n",
    "\n",
    "mean_squared_error(Y_train, y_pred, squared=False)"
   ]
  },
  {
   "cell_type": "code",
   "execution_count": null,
   "id": "0758d2ce",
   "metadata": {},
   "outputs": [],
   "source": [
    "ls = Ridge()\n",
    "ls.fit(X_train, Y_train)\n",
    "y_pred = ls.predict(X_train)"
   ]
  },
  {
   "cell_type": "code",
   "execution_count": null,
   "id": "b6eac6af",
   "metadata": {},
   "outputs": [],
   "source": [
    "sns.kdeplot(Y_train, label=\"Train\", fill=True)\n",
    "sns.kdeplot(y_pred, label='Prediction', fill=True)\n",
    "plt.legend()\n",
    "plt.title(\"Train vs Predict\")\n",
    "plt.xlabel(\"Duration\")\n",
    "plt.ylabel(\"Density\")\n",
    "plt.grid(True)\n",
    "plt.tight_layout()\n",
    "\n",
    "mean_squared_error(Y_train, y_pred, squared=False)"
   ]
  }
 ],
 "metadata": {
  "kernelspec": {
   "display_name": "Python 3",
   "language": "python",
   "name": "python3"
  },
  "language_info": {
   "codemirror_mode": {
    "name": "ipython",
    "version": 3
   },
   "file_extension": ".py",
   "mimetype": "text/x-python",
   "name": "python",
   "nbconvert_exporter": "python",
   "pygments_lexer": "ipython3",
   "version": "3.9.12"
  }
 },
 "nbformat": 4,
 "nbformat_minor": 5
}
